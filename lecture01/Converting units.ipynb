{
 "cells": [
  {
   "cell_type": "code",
   "execution_count": 1,
   "metadata": {},
   "outputs": [],
   "source": [
    "import numpy as np\n",
    "from astropy import units as u, constants as const"
   ]
  },
  {
   "cell_type": "markdown",
   "metadata": {},
   "source": [
    "## Conversion of units ##"
   ]
  },
  {
   "cell_type": "code",
   "execution_count": 2,
   "metadata": {},
   "outputs": [
    {
     "data": {
      "text/latex": [
       "$500 \\; \\mathrm{\\frac{m}{s}}$"
      ],
      "text/plain": [
       "<Quantity 500. m / s>"
      ]
     },
     "execution_count": 2,
     "metadata": {},
     "output_type": "execute_result"
    }
   ],
   "source": [
    "v = 500 * u.m / u.s\n",
    "v"
   ]
  },
  {
   "cell_type": "code",
   "execution_count": 3,
   "metadata": {},
   "outputs": [
    {
     "data": {
      "text/latex": [
       "$3.1710025 \\times 10^{-12} \\; \\mathrm{\\frac{lyr}{min}}$"
      ],
      "text/plain": [
       "<Quantity 3.1710025e-12 lyr / min>"
      ]
     },
     "execution_count": 3,
     "metadata": {},
     "output_type": "execute_result"
    }
   ],
   "source": [
    "v.to('lyr/minute')"
   ]
  },
  {
   "cell_type": "markdown",
   "metadata": {},
   "source": [
    "## Units in Astronomy ##\n",
    "\n",
    "We love the cgs system\n",
    "\n",
    " * Wavelength $\\lambda$ m, cm, micron, nm, $\\mathring {A}$\n",
    " * Frequency Hz, MhZ\n",
    " * Energy measured in J, erg, Rydbergs, eV, keV, MeV, GeV\n",
    " * Temperature: T , measured in K.\n",
    "\n",
    "These quantities are related:\n",
    "\n",
    " * $\\lambda \\nu=c$\n",
    " * $E=h \\nu$\n",
    " * T=E/k"
   ]
  },
  {
   "cell_type": "code",
   "execution_count": 4,
   "metadata": {},
   "outputs": [],
   "source": [
    "# Convert one of each into another one (excluding temperature)"
   ]
  },
  {
   "cell_type": "markdown",
   "metadata": {},
   "source": [
    "## Photon energy with wavelength of a Butterfly wingspan##"
   ]
  },
  {
   "cell_type": "code",
   "execution_count": 5,
   "metadata": {},
   "outputs": [
    {
     "data": {
      "text/latex": [
       "$3.9728916 \\times 10^{-26} \\; \\mathrm{\\frac{J\\,m}{inch}}$"
      ],
      "text/plain": [
       "<Quantity 3.97289165e-26 J m / inch>"
      ]
     },
     "execution_count": 5,
     "metadata": {},
     "output_type": "execute_result"
    }
   ],
   "source": [
    "monarch_wingspan = 5 * u.imperial.inch\n",
    "butterfly_energy = const.c / monarch_wingspan * const.h\n",
    "butterfly_energy"
   ]
  },
  {
   "cell_type": "code",
   "execution_count": 6,
   "metadata": {},
   "outputs": [
    {
     "data": {
      "text/latex": [
       "$9.7625352 \\times 10^{-6} \\; \\mathrm{eV}$"
      ],
      "text/plain": [
       "<Quantity 9.76253523e-06 eV>"
      ]
     },
     "execution_count": 6,
     "metadata": {},
     "output_type": "execute_result"
    }
   ],
   "source": [
    "butterfly_energy.to('eV')"
   ]
  },
  {
   "cell_type": "code",
   "execution_count": 8,
   "metadata": {},
   "outputs": [
    {
     "name": "stdout",
     "output_type": "stream",
     "text": [
      "Populating the interactive namespace from numpy and matplotlib\n"
     ]
    },
    {
     "data": {
      "text/plain": [
       "[<matplotlib.lines.Line2D at 0x7fe218e15f60>]"
      ]
     },
     "execution_count": 8,
     "metadata": {},
     "output_type": "execute_result"
    },
    {
     "data": {
      "image/png": "[encoded data removed]",
      "text/plain": [
       "<Figure size 432x288 with 1 Axes>"
      ]
     },
     "metadata": {
      "needs_background": "light"
     },
     "output_type": "display_data"
    }
   ],
   "source": [
    "%pylab inline\n",
    "\n",
    "wavelength = 10**np.arange(2, -10, -0.1) * u.m\n",
    "energy = wavelength**2 # THIS IS WRONG - change\n",
    "\n",
    "plot(wavelength, energy)\n"
   ]
  },
  {
   "cell_type": "markdown",
   "metadata": {},
   "source": [
    "## Calculate blackbody temperature for assuming peak wavelength##\n",
    "\n",
    " * Figure out how blackbody temperature and wavelength relate"
   ]
  },
  {
   "cell_type": "code",
   "execution_count": null,
   "metadata": {},
   "outputs": [],
   "source": []
  }
 ],
 "metadata": {
  "kernelspec": {
   "display_name": "Python 3",
   "language": "python",
   "name": "python3"
  },
  "language_info": {
   "codemirror_mode": {
    "name": "ipython",
    "version": 3
   },
   "file_extension": ".py",
   "mimetype": "text/x-python",
   "name": "python",
   "nbconvert_exporter": "python",
   "pygments_lexer": "ipython3",
   "version": "3.7.1"
  }
 },
 "nbformat": 4,
 "nbformat_minor": 2
}
